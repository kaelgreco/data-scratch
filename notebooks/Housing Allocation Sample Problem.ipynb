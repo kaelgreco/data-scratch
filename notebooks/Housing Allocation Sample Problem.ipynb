{
 "cells": [
  {
   "cell_type": "markdown",
   "metadata": {},
   "source": [
    "# Imports"
   ]
  },
  {
   "cell_type": "code",
   "execution_count": 2,
   "metadata": {
    "collapsed": true
   },
   "outputs": [],
   "source": [
    "import cvxpy as cvx\n",
    "import numpy as np\n",
    "import pandas as pd"
   ]
  },
  {
   "cell_type": "markdown",
   "metadata": {},
   "source": [
    "# CVXPY List balancer"
   ]
  },
  {
   "cell_type": "code",
   "execution_count": 13,
   "metadata": {
    "collapsed": true
   },
   "outputs": [],
   "source": [
    "def balance_cvx(data_table, marginals, sample_weights, control_weights=None):\n",
    "    rows, cols = data_table.shape\n",
    "\n",
    "    # Make sure things line up\n",
    "    assert (\n",
    "        marginals.shape[1] == cols and\n",
    "        sample_weights.shape[0] == rows\n",
    "    ), 'Dimensions mismatch'\n",
    "\n",
    "    x = cvx.Variable(rows)\n",
    "\n",
    "    if control_weights is None:\n",
    "        objective = cvx.Maximize(cvx.sum_entries(cvx.entr(x) + cvx.mul_elemwise(cvx.log(sample_weights), x)))\n",
    "        \n",
    "        constraints = [\n",
    "            x >= 0,\n",
    "            x.T * data_table == marginals,\n",
    "        ]\n",
    "        prob = cvx.Problem(objective, constraints)\n",
    "        prob.solve(solver=cvx.CVXOPT)\n",
    "        \n",
    "        return x.value\n",
    "\n",
    "    else:\n",
    "        # With relaxation factors\n",
    "        z = cvx.Variable(cols)\n",
    "\n",
    "        objective = cvx.Maximize(\n",
    "            cvx.sum_entries(cvx.entr(x) + cvx.mul_elemwise(cvx.log(sample_weights), x)) +\n",
    "            cvx.sum_entries(control_weights * (cvx.entr(z)))\n",
    "        )\n",
    "\n",
    "        constraints = [\n",
    "            x >= 0,\n",
    "            z >= 0,\n",
    "            x.T * data_table == cvx.mul_elemwise(marginals, z.T),\n",
    "        ]\n",
    "        prob = cvx.Problem(objective, constraints)\n",
    "        #prob.solve(solver=cvx.CVXOPT)\n",
    "        prob.solve(solver=cvx.SCS)        \n",
    "        \n",
    "        return x.value, z.value\n"
   ]
  },
  {
   "cell_type": "markdown",
   "metadata": {},
   "source": [
    "# Discretize"
   ]
  },
  {
   "cell_type": "code",
   "execution_count": 4,
   "metadata": {
    "collapsed": true
   },
   "outputs": [],
   "source": [
    "def discretize_weights(data_table, marginals, sample_weights):\n",
    "    n_samples, n_controls = data_table.shape\n",
    "    \n",
    "    # Intergerize x values\n",
    "    x_int = sample_weights.astype(int)\n",
    "\n",
    "    A_residuals = marginals - np.dot(x_int.T, data_table)\n",
    "    x_residuals = sample_weights - x_int\n",
    "    \n",
    "    # Replace any NANs\n",
    "    x_log = np.log(np.nan_to_num(x_residuals))\n",
    "    y = cvx.Bool(n_samples)\n",
    "\n",
    "    # Relaxation factors\n",
    "    U = cvx.Variable(n_controls)\n",
    "    V = cvx.Variable(n_controls)\n",
    "\n",
    "\n",
    "    objective = cvx.Maximize(\n",
    "        cvx.sum_entries(cvx.mul_elemwise(x_log, y)) -\n",
    "        999 * cvx.sum_entries(U) -\n",
    "        999 * cvx.sum_entries(V)\n",
    "    )\n",
    "\n",
    "    constraints = [\n",
    "        y.T * data_table <= A_residuals + U.T,\n",
    "        y.T * data_table >= A_residuals - V.T,\n",
    "        U >= 0,\n",
    "        V >= 0,\n",
    "    ]\n",
    "\n",
    "    prob = cvx.Problem(objective, constraints)\n",
    "    prob.solve(solver=cvx.GLPK_MI, verbose=True)\n",
    "    \n",
    "    return y.value\n"
   ]
  },
  {
   "cell_type": "markdown",
   "metadata": {},
   "source": [
    "# Example problem"
   ]
  },
  {
   "cell_type": "code",
   "execution_count": 14,
   "metadata": {
    "collapsed": false
   },
   "outputs": [],
   "source": [
    "# Here's the data table of households\n",
    "# Say we're just trying to balance total household count\n",
    "data_table = np.mat([\n",
    "    [1, 1, 0, 1, 1],\n",
    "    [1, 1, 0, 1, 1],\n",
    "    [1, 0, 1, 1, 1],\n",
    "    [1, 0, 1, 0, 1],\n",
    "])\n",
    "\n",
    "# Here are the controls / marginals that come from the census summary.\n",
    "# (These are just made up)\n",
    "marginals = np.mat([\n",
    "    400, # Total households\n",
    "    200, # 1 person hhs\n",
    "    200, # 2 person hhs\n",
    "    300, # People 0 -18\n",
    "    400, # People 19-36\n",
    "])\n",
    "\n",
    "# Initial HH weights\n",
    "sample_weights = np.array([\n",
    "    10,\n",
    "    10,\n",
    "    10,\n",
    "    10,\n",
    "])\n",
    "\n",
    "# Initial control weights that come from PUMS\n",
    "control_weights = np.mat([\n",
    "    1,\n",
    "    1,\n",
    "    1,\n",
    "    1,\n",
    "    1,\n",
    "])"
   ]
  },
  {
   "cell_type": "markdown",
   "metadata": {},
   "source": [
    "Trying to balance the weights without the controls is solveable, and leads to an expected result:"
   ]
  },
  {
   "cell_type": "code",
   "execution_count": 15,
   "metadata": {
    "collapsed": false
   },
   "outputs": [
    {
     "name": "stdout",
     "output_type": "stream",
     "text": [
      "Household Weights: \n",
      "[[ 100.]\n",
      " [ 100.]\n",
      " [ 100.]\n",
      " [ 100.]]\n"
     ]
    }
   ],
   "source": [
    "hh_weights = balance_cvx(data_table, marginals, sample_weights)\n",
    "print('Household Weights: \\n{}'.format(hh_weights))"
   ]
  },
  {
   "cell_type": "markdown",
   "metadata": {},
   "source": [
    "When the subjective weights are added, we're solving for the relaxation factors as well. So we want:\n",
    "\n",
    "$min_{x_n,z_i}\\sum_n x_n ln \\frac{x_n}{z_i} + \\sum_i \\mu_i z_i ln z_i$,\n",
    "\n",
    "Subject to:\n",
    "\n",
    "$\\sum_n a_{ni} \\times x_n = A_i \\times z_i$,\n",
    "\n",
    "$x_n \\geq 0, z_i \\geq 0$"
   ]
  },
  {
   "cell_type": "code",
   "execution_count": 20,
   "metadata": {
    "collapsed": false
   },
   "outputs": [
    {
     "name": "stdout",
     "output_type": "stream",
     "text": [
      "Household Weights: \n",
      "[[ 3.79195123]\n",
      " [ 3.79195123]\n",
      " [ 3.79202027]\n",
      " [ 3.76347976]]\n",
      "\n",
      "Relaxation factors: \n",
      "[[ 0.03784414]\n",
      " [ 0.03791509]\n",
      " [ 0.03777318]\n",
      " [ 0.03791532]\n",
      " [ 0.03784414]]\n",
      "\n",
      "Weights/Relaxation: \n",
      "[[ 100.19917078]\n",
      " [ 100.19917078]\n",
      " [ 100.200995  ]\n",
      " [  99.44683586]]\n",
      "\n"
     ]
    }
   ],
   "source": [
    "hh_weights, relaxation_factors = balance_cvx(data_table, marginals, sample_weights, control_weights)\n",
    "print('Household Weights: \\n{}\\n'.format(hh_weights))\n",
    "print('Relaxation factors: \\n{}\\n'.format(relaxation_factors))\n",
    "print('Weights/Relaxation: \\n{}\\n'.format(hh_weights / relaxation_factors[0, 0]))"
   ]
  },
  {
   "cell_type": "markdown",
   "metadata": {},
   "source": [
    "After running the solver we get a list of hh weights and relaxation factors for each control $z_i$, such that $\\sum_n a_{ni} \\times x_n = A_i z_i$. At the very least, the hh weights have to be rescaled to sum to the total, correct?\n",
    "\n",
    "Then to discretize the fractional component:"
   ]
  },
  {
   "cell_type": "code",
   "execution_count": 25,
   "metadata": {
    "collapsed": false
   },
   "outputs": [
    {
     "name": "stdout",
     "output_type": "stream",
     "text": [
      "Discretized weights: \n",
      "[[ 0.]\n",
      " [ 0.]\n",
      " [ 0.]\n",
      " [ 1.]]\n",
      "\n",
      "Final balanced household counts: \n",
      "[[ 100.]\n",
      " [ 100.]\n",
      " [ 100.]\n",
      " [ 100.]]\n",
      "\n"
     ]
    }
   ],
   "source": [
    "discretized_hh_weights = discretize_weights(data_table, marginals, (hh_weights / relaxation_factors[0, 0]))\n",
    "print('Discretized weights: \\n{}\\n'.format(discretized_hh_weights))\n",
    "\n",
    "# Integerize the weights and add in the discretized\n",
    "sample_weights_int = (hh_weights / relaxation_factors[0, 0]).astype(int)\n",
    "final_counts = sample_weights_int + discretized_hh_weights\n",
    "\n",
    "print('Final balanced household counts: \\n{}\\n'.format(final_counts))\n"
   ]
  },
  {
   "cell_type": "code",
   "execution_count": null,
   "metadata": {
    "collapsed": true
   },
   "outputs": [],
   "source": []
  }
 ],
 "metadata": {
  "kernelspec": {
   "display_name": "Python 3",
   "language": "python",
   "name": "python3"
  },
  "language_info": {
   "codemirror_mode": {
    "name": "ipython",
    "version": 3
   },
   "file_extension": ".py",
   "mimetype": "text/x-python",
   "name": "python",
   "nbconvert_exporter": "python",
   "pygments_lexer": "ipython3",
   "version": "3.6.0"
  }
 },
 "nbformat": 4,
 "nbformat_minor": 2
}
